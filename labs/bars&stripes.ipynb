{
 "cells": [
  {
   "cell_type": "code",
   "execution_count": 1,
   "metadata": {},
   "outputs": [],
   "source": [
    "import numpy as np\n",
    "import matplotlib.pyplot as plt\n",
    "import jax\n",
    "import jax.numpy as jnp\n",
    "# import numpy as jnp\n",
    "import scipy\n",
    "\n",
    "jax.config.update(\"jax_enable_x64\", True)"
   ]
  },
  {
   "cell_type": "code",
   "execution_count": 10,
   "metadata": {},
   "outputs": [
    {
     "data": {
      "image/png": "[encoded data removed]",
      "text/plain": [
       "<Figure size 288x288 with 16 Axes>"
      ]
     },
     "metadata": {
      "needs_background": "light"
     },
     "output_type": "display_data"
    }
   ],
   "source": [
    "def generate_pics(N:int, B:int):\n",
    "    \"\"\"\n",
    "    Generate batch of B binary images of size N x N returned as array B x N x N.\n",
    "    \"\"\"\n",
    "    return np.random.randint(low=0, high=2, size=(B,N,N)).astype(np.bool)\n",
    "\n",
    "def generate_all_pics(N:int):\n",
    "    all_bit_values = np.array([False, True])\n",
    "    npixels = N**2\n",
    "    list_of_coordinates = np.meshgrid( *(all_bit_values,)*npixels, indexing='ij' ) \n",
    "    return np.stack(list_of_coordinates, axis=-1).reshape((-1,N,N))\n",
    "\n",
    "def check_if_striped(bpic):\n",
    "    \"\"\"\n",
    "    For batch of images bpic (B x N x N) returns boolean array (N),\n",
    "    marking if the image consists of stripes (either vertical or horizontal).\n",
    "    \"\"\"\n",
    "    return ( np.all(bpic[:,0,None,:]==bpic, axis=(-1,-2)) \n",
    "           | np.all(bpic[:,:,0,None]==bpic, axis=(-1,-2))\n",
    "           )\n",
    "\n",
    "def desired_distribution(N: int):\n",
    "    bpics = generate_all_pics(N=N)\n",
    "    is_striped = check_if_striped(bpics)\n",
    "    return is_striped.astype(np.float64)/np.sum(is_striped)\n",
    "\n",
    "def plot_pic(bpic, maxpics=15**2):\n",
    "    \"\"\"\n",
    "    Show batch of images.\n",
    "    Arguments: \n",
    "        `bpic` is array of shape B x N x N.\n",
    "        `maxpics` is number of images to show if B is larger than maxpics.\n",
    "    \"\"\"\n",
    "    B, N, M = bpic.shape\n",
    "    assert N==M\n",
    "    maxpics = np.minimum(maxpics, B)\n",
    "    ncols = int(np.ceil(np.sqrt(maxpics)))\n",
    "    is_striped = check_if_striped(bpic)\n",
    "    \n",
    "    fig, axs = plt.subplots(ncols, ncols, figsize=(ncols*1,)*2)\n",
    "    axs = np.concatenate(axs)\n",
    "    for k, ax in enumerate(axs):\n",
    "        if k<maxpics:\n",
    "            ax.imshow(bpic[k], cmap='Wistia' if is_striped[k] else 'cool', clim=(0,1))\n",
    "        ax.set_axis_off()\n",
    "    plt.show()\n",
    "\n",
    "    \n",
    "bpics = generate_all_pics(N=2)\n",
    "# bpics = generate_pics(N=2, B=15**2)\n",
    "plot_pic(bpics)\n",
    "# print(f\"{desired_distribution(N=2)}\")"
   ]
  },
  {
   "cell_type": "code",
   "execution_count": 3,
   "metadata": {},
   "outputs": [
    {
     "name": "stderr",
     "output_type": "stream",
     "text": [
      "WARNING:absl:No GPU/TPU found, falling back to CPU. (Set TF_CPP_MIN_LOG_LEVEL=0 and rerun for more info.)\n"
     ]
    },
    {
     "name": "stdout",
     "output_type": "stream",
     "text": [
      "Initial state phi [[0, 1], [2, 3]]\n",
      "X0 phi [[2.0, 3.0], [0.0, 1.0]]\n",
      "X1 phi [[1.0, 0.0], [3.0, 2.0]]\n",
      "C0X1 phi [[0.0, 1.0], [3.0, 2.0]]\n"
     ]
    }
   ],
   "source": [
    "def U3Gate(t,p,l):\n",
    "    \"\"\"\n",
    "    Universal single qbit gate.\n",
    "    \"\"\"\n",
    "    return jnp.array(([\n",
    "        [jnp.cos(t/2), -jnp.exp(1j*l)*jnp.sin(t/2)],\n",
    "        [jnp.exp(1j*p)*jnp.sin(t/2), jnp.exp(1j*(p+l))*jnp.cos(t/2)]\n",
    "    ]))\n",
    "\n",
    "def XGate(): return jnp.array([[0.0,1.0],[1.0,0.0]])\n",
    "def YGate(): return jnp.array([[0.0,1.0j],[-1.0j,0.0]])\n",
    "def ZGate(): return jnp.array([[1.0,0.0],[0.0,-1.0]])\n",
    "\n",
    "GATES = {\n",
    "    'X': XGate(),\n",
    "    'Y': YGate(),\n",
    "    'Z': ZGate(),\n",
    "}\n",
    "\n",
    "def apply_gate(gate, qbit, phi):\n",
    "    \"\"\"\n",
    "    Apply quantum gate to a statevector for a given qbit.\n",
    "    Argument:\n",
    "        gate: 2x2 matrix of the gate.\n",
    "        qbit: index of qbit affected by the gate.\n",
    "        phi: statevector in the form of 2x2x2x...x2 array.\n",
    "    \"\"\"\n",
    "    nq = phi.ndim\n",
    "    assert qbit<nq    \n",
    "    idx = list(range(nq))\n",
    "    idx[qbit] = nq\n",
    "    return jnp.einsum(gate, [nq, qbit], phi, list(range(nq)), idx)\n",
    "\n",
    "def apply_controlled_gate(control, gate, qbit, phi):\n",
    "    \"\"\"\n",
    "    Apply controlled quantum gate to a statevector for a given qbit.\n",
    "    Argument:\n",
    "        control: control bit.\n",
    "        gate: 2x2 matrix of the gate.\n",
    "        qbit: index of qbit affected by the gate.\n",
    "        phi: statevector in the form of 2x2x2x...x2 array.\n",
    "    \"\"\"\n",
    "    nq = phi.ndim\n",
    "    assert control<nq and qbit<nq and control!=qbit\n",
    "    prefix = (slice(None),)*control\n",
    "    psi0 = phi[prefix+(0,None)] # Action if control is zero.\n",
    "    idx = list(range(nq))\n",
    "    idx[qbit] = nq\n",
    "    psi1 = jnp.einsum(gate, [nq, qbit], phi[prefix+(1,None)], list(range(nq)), idx) # Action if control 1.\n",
    "    return jnp.concatenate((psi0,psi1), axis=control)\n",
    "\n",
    "# Small test.\n",
    "phi = np.arange(4).reshape((2,2))\n",
    "print(\"Initial state phi\", phi.tolist())\n",
    "print(\"X0 phi\", apply_gate(XGate(), 0, phi).tolist())\n",
    "print(\"X1 phi\", apply_gate(XGate(), 1, phi).tolist())\n",
    "print(\"C0X1 phi\", apply_controlled_gate(0, XGate(), 1, phi).tolist())"
   ]
  },
  {
   "cell_type": "code",
   "execution_count": 4,
   "metadata": {},
   "outputs": [
    {
     "data": {
      "text/plain": [
       "DeviceArray([0.0625, 0.0625, 0.0625, 0.0625, 0.0625, 0.0625, 0.0625,\n",
       "             0.0625, 0.0625, 0.0625, 0.0625, 0.0625, 0.0625, 0.0625,\n",
       "             0.0625, 0.0625], dtype=float64)"
      ]
     },
     "execution_count": 4,
     "metadata": {},
     "output_type": "execute_result"
    }
   ],
   "source": [
    "def apply_entangle(phi):\n",
    "    \"\"\"\n",
    "    Entangle layer in HEA.\n",
    "    \"\"\"\n",
    "    nqbits = phi.ndim\n",
    "    for q in range(nqbits):\n",
    "        phi = apply_controlled_gate(q, XGate(), (q+1)%nqbits, phi)\n",
    "    return phi\n",
    "\n",
    "def ansatz(theta):\n",
    "    \"\"\"\n",
    "    Compute ansatz for VQE.\n",
    "    Input:\n",
    "        theta: array of parameters 3 x nqbits x depth.\n",
    "    Output:\n",
    "        statevector: array 2x2x...x2 = 2^nqbits.\n",
    "    \"\"\"\n",
    "    nparam, nqbits, depth = theta.shape\n",
    "    assert nparam==3\n",
    "    \n",
    "    phi = jnp.ones((2,)*nqbits, dtype=np.complex128)/np.power(2, nqbits/2)\n",
    "    \n",
    "#     phi = jnp.zeros((2,)*nqbits, dtype=np.complex128)\n",
    "#     phi[(0,)*nqbits] = 1. \n",
    "#     phi = jax.ops.index_update(phi, (0,)*nqbits, 1.) \n",
    "    \n",
    "    for d in range(depth):\n",
    "        if d>0: phi = apply_entangle(phi)\n",
    "        for q in range(nqbits):\n",
    "            phi = apply_gate(U3Gate(*theta[:,q,d]), q, phi)\n",
    "    return phi\n",
    "\n",
    "def born_machine(theta):\n",
    "    \"\"\"\n",
    "    Compute ansatz and apply Born's rule.\n",
    "    Return probability of each outcome.\n",
    "    \"\"\"\n",
    "    psi = ansatz(theta)\n",
    "    return jnp.abs(psi.flatten())**2\n",
    "\n",
    "# A small test.\n",
    "thetas = np.zeros((3,4,1))\n",
    "born_machine(thetas)"
   ]
  },
  {
   "cell_type": "code",
   "execution_count": 5,
   "metadata": {},
   "outputs": [],
   "source": [
    "def cross_entropy(p, q, threshold=1e-7):\n",
    "    return -jnp.sum(p*jnp.log(jnp.maximum(q,threshold)))\n",
    "\n",
    "@jax.jit\n",
    "def loss(theta, p_target):\n",
    "    \"\"\"\n",
    "    Computer cross entropy for distribution generated by Born machine and for desired distribution `p_target`.\n",
    "    \"\"\"\n",
    "    nqbits = int(np.log2(p_target.shape[0]))\n",
    "    theta = theta.reshape((3,nqbits,-1))\n",
    "    q = born_machine(theta)\n",
    "    return cross_entropy(p_target, q)\n",
    "\n",
    "d_loss = jax.jit(jax.grad(loss, 0))\n",
    "\n",
    "def initialize(N: int, depth: int):\n",
    "    \"\"\"\n",
    "    Create new problem.\n",
    "    Result:\n",
    "        `N` - size of the picture.\n",
    "        `depth` - depth of the neural network.\n",
    "    \"\"\"\n",
    "    nqbits = N**2\n",
    "    p_target = desired_distribution(N=N)\n",
    "    theta = np.random.randn(3, nqbits, depth)\n",
    "    return theta, p_target\n"
   ]
  },
  {
   "cell_type": "code",
   "execution_count": 6,
   "metadata": {},
   "outputs": [
    {
     "name": "stdout",
     "output_type": "stream",
     "text": [
      "Initial loss: 3.0290556087207063\n",
      "............................Converged: True\n",
      "Final loss: 1.791759469391944\n"
     ]
    },
    {
     "data": {
      "image/png": "[encoded data removed]",
      "text/plain": [
       "<Figure size 1080x360 with 1 Axes>"
      ]
     },
     "metadata": {
      "needs_background": "light"
     },
     "output_type": "display_data"
    }
   ],
   "source": [
    "theta0, p_target = initialize(N=2, depth=2)\n",
    "print(f\"Initial loss: {loss(theta0, p_target)}\")\n",
    "res = scipy.optimize.minimize(fun=loss\n",
    "                              , jac=d_loss\n",
    "                              , x0=theta0.flatten()\n",
    "                              , args=(p_target,)\n",
    "                              , callback=lambda _: print('.',end=''))\n",
    "print(f\"Converged:\", res.success)\n",
    "theta = res.x.reshape(theta0.shape)\n",
    "q = born_machine(theta)\n",
    "print(f\"Final loss: {res.fun}\")\n",
    "fig, ax = plt.subplots(figsize=(15,5))\n",
    "width=0.3\n",
    "x=np.arange(len(q))\n",
    "ax.bar(x-width/2, p_target, width=width, label='target')\n",
    "ax.bar(x+width/2, q, width=width, label='result')\n",
    "ax.set_xlabel('Picture')\n",
    "ax.set_ylabel('Probability')\n",
    "ax.legend()\n",
    "plt.show()"
   ]
  },
  {
   "cell_type": "code",
   "execution_count": null,
   "metadata": {},
   "outputs": [],
   "source": []
  },
  {
   "cell_type": "code",
   "execution_count": 7,
   "metadata": {},
   "outputs": [],
   "source": [
    "def samples_to_indices(samples):\n",
    "    samples = samples.reshape((samples.shape[0],-1)).T.astype(np.int)\n",
    "    return jnp.ravel_multi_index(samples, (2,)*samples.shape[0], mode='wrap')\n",
    "    \n",
    "def cross_entropy_stat(samples, q, threshold=1e-7):\n",
    "    indices = samples_to_indices(samples)\n",
    "    return -jnp.sum(jnp.log(q[indices]))/samples.shape[0]\n",
    "\n",
    "@jax.jit\n",
    "def loss_b(theta, samples):\n",
    "    B, N, N = samples.shape\n",
    "    nqbits = N**2    \n",
    "    theta = theta.reshape((3,nqbits,-1))\n",
    "    q = born_machine(theta)\n",
    "    return cross_entropy_stat(samples, q)\n",
    "\n",
    "d_loss_b = jax.jit(jax.grad(loss_b, 0))\n",
    "\n",
    "def create_batch(N: int, B: int):\n",
    "    \"\"\"\n",
    "    Create a batch of samples. \n",
    "    Result:\n",
    "        `N` - size of the picture.\n",
    "        `B` - number of samples in the batch.\n",
    "    \"\"\"\n",
    "    samples = generate_pics(N=N, B=B)\n",
    "    cl = check_if_striped(samples)   \n",
    "    return samples[cl]\n"
   ]
  },
  {
   "cell_type": "code",
   "execution_count": 8,
   "metadata": {},
   "outputs": [
    {
     "data": {
      "image/png": "[encoded data removed]",
      "text/plain": [
       "<Figure size 432x432 with 36 Axes>"
      ]
     },
     "metadata": {
      "needs_background": "light"
     },
     "output_type": "display_data"
    },
    {
     "name": "stdout",
     "output_type": "stream",
     "text": [
      "Initial loss: 2.775842819414761\n",
      "............................................................................................Converged: True\n",
      "Final loss: 1.7618946374677444\n"
     ]
    },
    {
     "data": {
      "image/png": "[encoded data removed]",
      "text/plain": [
       "<Figure size 1080x360 with 1 Axes>"
      ]
     },
     "metadata": {
      "needs_background": "light"
     },
     "output_type": "display_data"
    }
   ],
   "source": [
    "# Single batch version. BAD generalization.\n",
    "theta0, p_target = initialize(N=2, depth=2)\n",
    "samples = create_batch(N=2, B=100)\n",
    "plot_pic(samples)\n",
    "values, counts = np.unique(samples_to_indices(samples), return_counts=True)\n",
    "p_b = np.zeros_like(p_target)\n",
    "for v, c in zip(values, counts): p_b[v]=c\n",
    "p_b /= samples.shape[0]\n",
    "print(f\"Initial loss: {loss_b(theta0, samples)}\")\n",
    "res = scipy.optimize.minimize(fun=loss_b\n",
    "                              , jac=d_loss_b\n",
    "                              , x0=theta0.flatten()\n",
    "                              , args=(samples, )\n",
    "                              , callback=lambda _: print('.',end=''))\n",
    "print(f\"Converged:\", res.success)\n",
    "theta = res.x.reshape(theta0.shape)\n",
    "q = born_machine(theta)\n",
    "print(f\"Final loss: {res.fun}\")\n",
    "fig, ax = plt.subplots(figsize=(15,5))\n",
    "width=0.25\n",
    "x=np.arange(len(q))\n",
    "ax.bar(x-width, p_target, width=width, label='target')\n",
    "ax.bar(x, q, width=width, label='result')\n",
    "ax.bar(x+width, p_b, width=width, label='batch')\n",
    "ax.set_xlabel('Picture')\n",
    "ax.set_ylabel('Probability')\n",
    "ax.legend()\n",
    "plt.show()"
   ]
  },
  {
   "cell_type": "code",
   "execution_count": 9,
   "metadata": {},
   "outputs": [
    {
     "name": "stdout",
     "output_type": "stream",
     "text": [
      "Initial loss: 3.0745386427455434\n",
      ".....Epoch 0: 3.8681653694482514\n",
      ".....Epoch 1: 4.215989947270673\n",
      ".....Epoch 2: 5.704440136153874\n",
      ".....Epoch 3: 6.713887610404238\n",
      ".....Epoch 4: 6.151077126226506\n",
      ".....Epoch 5: 7.171031561698307\n",
      ".....Epoch 6: 7.729211775000459\n",
      ".....Epoch 7: 8.296538452492921\n",
      ".....Epoch 8: 8.346162889899798\n",
      ".....Epoch 9: 9.828720099892378\n",
      ".....Epoch 10: 10.222107925540312\n",
      ".....Epoch 11: 8.1244788341807\n",
      ".....Epoch 12: 8.799379327396098\n",
      ".....Epoch 13: 9.06121742419704\n",
      ".....Epoch 14: 8.981096842670235\n",
      ".....Epoch 15: 9.180776767156484\n",
      ".....Epoch 16: 10.042572591794825\n",
      ".....Epoch 17: 9.931625995209416\n",
      ".....Epoch 18: 9.677492429883664\n",
      ".....Epoch 19: 10.11108814650561\n"
     ]
    },
    {
     "data": {
      "image/png": "[encoded data removed]",
      "text/plain": [
       "<Figure size 1080x360 with 1 Axes>"
      ]
     },
     "metadata": {
      "needs_background": "light"
     },
     "output_type": "display_data"
    }
   ],
   "source": [
    "N=2\n",
    "theta0, p_target = initialize(N=N, depth=2)\n",
    "test_set = generate_pics(N=N, B=100)\n",
    "print(f\"Initial loss: {loss_b(theta0, test_set)}\")\n",
    "theta = theta0.flatten()\n",
    "for epoch in range(20):\n",
    "    train_set = create_batch(N=2, B=100)\n",
    "    res = scipy.optimize.minimize(fun=loss_b\n",
    "                                  , jac=d_loss_b\n",
    "                                  , x0=theta\n",
    "                                  , args=(train_set, )\n",
    "                                  , callback=lambda _: print('.',end='')\n",
    "                                  , options = { 'maxiter': 5 }\n",
    "                                 )\n",
    "    theta = res.x\n",
    "    print(f\"Epoch {epoch}: {loss_b(theta.reshape(theta0.shape), test_set)}\")\n",
    "theta = theta.reshape(theta0.shape)\n",
    "q = born_machine(theta)\n",
    "fig, ax = plt.subplots(figsize=(15,5))\n",
    "width=0.3\n",
    "x=np.arange(len(q))\n",
    "ax.bar(x-width/2, p_target, width=width, label='target')\n",
    "ax.bar(x+width/2, q, width=width, label='result')\n",
    "ax.set_xlabel('Picture')\n",
    "ax.set_ylabel('Probability')\n",
    "ax.legend()\n",
    "plt.show()"
   ]
  },
  {
   "cell_type": "code",
   "execution_count": null,
   "metadata": {},
   "outputs": [],
   "source": []
  }
 ],
 "metadata": {
  "kernelspec": {
   "display_name": "Python 3",
   "language": "python",
   "name": "python3"
  },
  "language_info": {
   "codemirror_mode": {
    "name": "ipython",
    "version": 3
   },
   "file_extension": ".py",
   "mimetype": "text/x-python",
   "name": "python",
   "nbconvert_exporter": "python",
   "pygments_lexer": "ipython3",
   "version": "3.8.6"
  }
 },
 "nbformat": 4,
 "nbformat_minor": 4
}
