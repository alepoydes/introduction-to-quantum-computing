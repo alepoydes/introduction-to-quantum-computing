{
 "cells": [
  {
   "cell_type": "raw",
   "metadata": {},
   "source": [
    "!pip3 install openfermion\n",
    "!pip3 install jax jaxlib\n",
    "!pip3 install autograd "
   ]
  },
  {
   "cell_type": "code",
   "execution_count": 1,
   "metadata": {},
   "outputs": [
    {
     "name": "stdout",
     "output_type": "stream",
     "text": [
      "env: JAX_ENABLE_X64=True\n"
     ]
    }
   ],
   "source": [
    "%env JAX_ENABLE_X64=True\n",
    "import jax.numpy as jnp\n",
    "import jax\n",
    "    \n",
    "import scipy\n",
    "import numpy as np"
   ]
  },
  {
   "cell_type": "code",
   "execution_count": 2,
   "metadata": {},
   "outputs": [],
   "source": [
    "from openfermion.hamiltonians import MolecularData\n",
    "from openfermion.transforms import get_fermion_operator, jordan_wigner\n",
    "\n",
    "filename = \"./Quantaggle_dataset-master/datasets/Small_Molecules_1/H2_line_sto-3g/H2_line_sto-3g_singlet_0.50.hdf5\"\n",
    "# filename = \"./Quantaggle_dataset-master/datasets/Small_Molecules_1/H4_line_sto-3g/H4_line_sto-3g_singlet_0.50.hdf5\"\n",
    "# filename = \"./Quantaggle_dataset-master/datasets/Small_Molecules_1/H2O_sto-3g/H2O_sto-3g_singlet_0.50_104.5deg_0.50.hdf5\"\n",
    "molecular_data = MolecularData(filename=filename) # load hdf5 file\n",
    "molecular_hamiltonian = get_fermion_operator(molecular_data.get_molecular_hamiltonian()) # get an instance of second quantized hamiltonian\n",
    "jw_hamiltonian = jordan_wigner(molecular_hamiltonian) # get a Pauli operator representation of the hamiltonian\n",
    "# print(jw_hamiltonian)"
   ]
  },
  {
   "cell_type": "code",
   "execution_count": 3,
   "metadata": {},
   "outputs": [
    {
     "name": "stdout",
     "output_type": "stream",
     "text": [
      "Number of qbits 4\n"
     ]
    }
   ],
   "source": [
    "NQBITS = np.max(np.array([qbit for op in molecular_hamiltonian for terms, _const in op.terms.items() for qbit, name in terms]))+1\n",
    "print(\"Number of qbits\", NQBITS)"
   ]
  },
  {
   "cell_type": "code",
   "execution_count": 4,
   "metadata": {},
   "outputs": [
    {
     "name": "stderr",
     "output_type": "stream",
     "text": [
      "WARNING:absl:No GPU/TPU found, falling back to CPU. (Set TF_CPP_MIN_LOG_LEVEL=0 and rerun for more info.)\n"
     ]
    },
    {
     "name": "stdout",
     "output_type": "stream",
     "text": [
      "Initial state phi [[0, 1], [2, 3]]\n",
      "X0 phi [[2.0, 3.0], [0.0, 1.0]]\n",
      "X1 phi [[1.0, 0.0], [3.0, 2.0]]\n",
      "C0X1 phi [[0.0, 1.0], [3.0, 2.0]]\n"
     ]
    }
   ],
   "source": [
    "def U3Gate(t,p,l):\n",
    "    \"\"\"\n",
    "    Universal single qbit gate.\n",
    "    \"\"\"\n",
    "    return jnp.array(([\n",
    "        [jnp.cos(t/2), -jnp.exp(1j*l)*jnp.sin(t/2)],\n",
    "        [jnp.exp(1j*p)*jnp.sin(t/2), jnp.exp(1j*(p+l))*jnp.cos(t/2)]\n",
    "    ]))\n",
    "\n",
    "def XGate(): return jnp.array([[0.0,1.0],[1.0,0.0]])\n",
    "def YGate(): return jnp.array([[0.0,1.0j],[-1.0j,0.0]])\n",
    "def ZGate(): return jnp.array([[1.0,0.0],[0.0,-1.0]])\n",
    "\n",
    "GATES = {\n",
    "    'X': XGate(),\n",
    "    'Y': YGate(),\n",
    "    'Z': ZGate(),\n",
    "}\n",
    "\n",
    "def apply_gate(gate, qbit, phi):\n",
    "    \"\"\"\n",
    "    Apply quantum gate to a statevector for a given qbit.\n",
    "    Argument:\n",
    "        gate: 2x2 matrix of the gate.\n",
    "        qbit: index of qbit affected by the gate.\n",
    "        phi: statevector in the form of 2x2x2x...x2 array.\n",
    "    \"\"\"\n",
    "    nq = phi.ndim\n",
    "    assert qbit<nq    \n",
    "    idx = list(range(nq))\n",
    "    idx[qbit] = nq\n",
    "    return jnp.einsum(gate, [nq, qbit], phi, list(range(nq)), idx)\n",
    "\n",
    "def apply_controlled_gate(control, gate, qbit, phi):\n",
    "    \"\"\"\n",
    "    Apply controlled quantum gate to a statevector for a given qbit.\n",
    "    Argument:\n",
    "        control: control bit.\n",
    "        gate: 2x2 matrix of the gate.\n",
    "        qbit: index of qbit affected by the gate.\n",
    "        phi: statevector in the form of 2x2x2x...x2 array.\n",
    "    \"\"\"\n",
    "    nq = phi.ndim\n",
    "    assert control<nq and qbit<nq and control!=qbit\n",
    "    prefix = (slice(None),)*control\n",
    "    psi0 = phi[prefix+(0,None)] # Action if control is zero.\n",
    "    idx = list(range(nq))\n",
    "    idx[qbit] = nq\n",
    "    psi1 = jnp.einsum(gate, [nq, qbit], phi[prefix+(1,None)], list(range(nq)), idx) # Action if control 1.\n",
    "    return jnp.concatenate((psi0,psi1), axis=control)\n",
    "\n",
    "# Small test.\n",
    "phi = jnp.arange(4).reshape((2,2))\n",
    "print(\"Initial state phi\", phi.tolist())\n",
    "print(\"X0 phi\", apply_gate(XGate(), 0, phi).tolist())\n",
    "print(\"X1 phi\", apply_gate(XGate(), 1, phi).tolist())\n",
    "print(\"C0X1 phi\", apply_controlled_gate(0, XGate(), 1, phi).tolist())"
   ]
  },
  {
   "cell_type": "code",
   "execution_count": 5,
   "metadata": {},
   "outputs": [
    {
     "data": {
      "text/plain": [
       "[[[[(1+0j), 0j], [0j, 0j]], [[0j, 0j], [0j, 0j]]],\n",
       " [[[0j, 0j], [0j, 0j]], [[0j, 0j], [0j, 0j]]]]"
      ]
     },
     "execution_count": 5,
     "metadata": {},
     "output_type": "execute_result"
    }
   ],
   "source": [
    "def apply_entangle(phi):\n",
    "    \"\"\"\n",
    "    Entangle layer in HEA.\n",
    "    \"\"\"\n",
    "    nqbits = phi.ndim\n",
    "    for q in range(nqbits):\n",
    "        phi = apply_controlled_gate(q, XGate(), (q+1)%nqbits, phi)\n",
    "    return phi\n",
    "\n",
    "def ansatz(theta):\n",
    "    \"\"\"\n",
    "    Compute ansatz for VQE.\n",
    "    Input:\n",
    "        theta: array of parameters 3 x nqbits x depth.\n",
    "    Output:\n",
    "        statevector: array 2x2x...x2 = 2^nqbits.\n",
    "    \"\"\"\n",
    "    nparam, nqbits, depth = theta.shape\n",
    "    phi = jnp.zeros((2,)*nqbits, dtype=np.complex128)\n",
    "    phi = jax.ops.index_update(phi, (0,)*nqbits, 1.) # JAX version\n",
    "    \n",
    "    for d in range(depth):\n",
    "        if d>0: phi = apply_entangle(phi)\n",
    "        for q in range(nqbits):\n",
    "            phi = apply_gate(U3Gate(*theta[:,q,d]), q, phi)\n",
    "    return phi\n",
    "\n",
    "# A small test.\n",
    "ansatz(np.zeros((3,4,1))).tolist()"
   ]
  },
  {
   "cell_type": "code",
   "execution_count": 6,
   "metadata": {},
   "outputs": [
    {
     "data": {
      "text/plain": [
       "DeviceArray(0.49861167, dtype=float64)"
      ]
     },
     "execution_count": 6,
     "metadata": {},
     "output_type": "execute_result"
    }
   ],
   "source": [
    "def apply_hamiltonian_term(terms, phi):\n",
    "    global GATES\n",
    "    for qbit, name in terms:\n",
    "        phi = apply_gate(GATES[name], qbit, phi)\n",
    "    return phi\n",
    "\n",
    "def apply_hamiltonian(hamiltonian, phi):\n",
    "    result = 0.\n",
    "    for op in hamiltonian:\n",
    "        for terms, const in op.terms.items():\n",
    "            psi = apply_hamiltonian_term(terms, phi)\n",
    "            result = result + const*psi \n",
    "    return result\n",
    "\n",
    "def mean_energy(hamiltonian, phi):\n",
    "    psi = apply_hamiltonian(hamiltonian, phi)\n",
    "    E = jnp.sum( jnp.conj(phi)*psi )\n",
    "#     assert np.abs(np.imag(E))<1e-6\n",
    "    return jnp.real(E)\n",
    "    \n",
    "def experiment(theta, hamiltonian):\n",
    "    phi = ansatz(theta)\n",
    "    return mean_energy(hamiltonian, phi)\n",
    "    \n",
    "# A small test.\n",
    "theta0 = np.random.randn(3, NQBITS, 1)\n",
    "experiment(theta0, jw_hamiltonian)"
   ]
  },
  {
   "cell_type": "code",
   "execution_count": 7,
   "metadata": {},
   "outputs": [
    {
     "name": "stdout",
     "output_type": "stream",
     "text": [
      "CPU times: user 263 ms, sys: 4.47 ms, total: 267 ms\n",
      "Wall time: 269 ms\n",
      "Ground state energy: [-1.05515979]\n"
     ]
    }
   ],
   "source": [
    "nqbits = NQBITS\n",
    "@jax.jit\n",
    "def energy_flat(x):\n",
    "    return apply_hamiltonian(jw_hamiltonian, x.reshape((2,)*nqbits)).flatten()\n",
    "H = scipy.sparse.linalg.LinearOperator((2**nqbits, 2**nqbits), matvec=energy_flat)\n",
    "%time e0, w0 = scipy.sparse.linalg.eigsh(H, k=1, which='SA', tol=1e-6) # Lowest eigenvalue\n",
    "print(\"Ground state energy:\", e0)"
   ]
  },
  {
   "cell_type": "code",
   "execution_count": 8,
   "metadata": {},
   "outputs": [],
   "source": [
    "# Reminder, how to extract data from OpenFermion.\n",
    "# op = next(jw_hamiltonian.get_operators())\n",
    "# ?op.terms\n",
    "\n",
    "# for op in jw_hamiltonian:\n",
    "#     print(f\"{op=}\")\n",
    "#     for key, const in op.terms.items():\n",
    "#         for nq, name_op in key:\n",
    "#             print(nq, name_op)\n",
    "#         print(\"Const\", const)"
   ]
  },
  {
   "cell_type": "code",
   "execution_count": 9,
   "metadata": {},
   "outputs": [
    {
     "name": "stdout",
     "output_type": "stream",
     "text": [
      "CPU times: user 810 ms, sys: 21.3 ms, total: 831 ms\n",
      "Wall time: 813 ms\n",
      "Optimization terminated successfully. #parameters 24. Cost: 675. Min. energy: -1.05516\n"
     ]
    }
   ],
   "source": [
    "nqbits = NQBITS\n",
    "depth = 2\n",
    "theta_initial = np.random.randn(3, nqbits, depth) # Initial values of parameters\n",
    "\n",
    "@jax.jit\n",
    "def loss(theta):\n",
    "    theta = theta.reshape(theta_initial.shape)\n",
    "    return experiment(theta, jw_hamiltonian)\n",
    "\n",
    "%time res = scipy.optimize.minimize(loss, theta_initial.flatten())\n",
    "theta = res.x\n",
    "min_energy = res.fun\n",
    "print(res.message, f\"#parameters {theta.size}. Cost: {res.nfev}. Min. energy: {min_energy:.6}\")\n",
    "# print(res)"
   ]
  },
  {
   "cell_type": "code",
   "execution_count": 10,
   "metadata": {},
   "outputs": [
    {
     "name": "stdout",
     "output_type": "stream",
     "text": [
      "CPU times: user 1.85 s, sys: 242 ms, total: 2.09 s\n",
      "Wall time: 1.68 s\n",
      "Optimization terminated successfully. #parameters 24. Cost: 27. Min. energy: -1.05516\n",
      "Full cost: 1323\n"
     ]
    }
   ],
   "source": [
    "# Parameter shift rule.\n",
    "# @jax.jit\n",
    "def d_loss_psr(theta):\n",
    "    grad = []\n",
    "    for idx in range(theta.shape[0]):\n",
    "        tp = jax.ops.index_add(theta, idx, jnp.pi/2)\n",
    "        gp = loss(tp)\n",
    "        tm = jax.ops.index_add(theta, idx, -jnp.pi/2)\n",
    "        gm = loss(tm)\n",
    "        grad.append( 0.5*(gp-gm) )\n",
    "    return jnp.asarray(grad)\n",
    "\n",
    "# Much slower than JIT. \n",
    "%time res = scipy.optimize.minimize(loss, theta_initial.flatten(), jac=d_loss_psr)\n",
    "theta = res.x\n",
    "min_energy = res.fun\n",
    "print(res.message, f\"#parameters {theta.size}. Cost: {res.nfev}. Min. energy: {min_energy:.6}\")\n",
    "\n",
    "# Full cost here is much higher, since energy should be computed 2*#parameters+1 times per iteration.\n",
    "print(f\"Full cost: {res.nfev*(2*theta.size+1)}\")"
   ]
  },
  {
   "cell_type": "code",
   "execution_count": 11,
   "metadata": {},
   "outputs": [
    {
     "name": "stdout",
     "output_type": "stream",
     "text": [
      "Error: 3.5930558143486307e-16\n"
     ]
    }
   ],
   "source": [
    "# If JAX is enabled, the gradient can be computed automatically.\n",
    "# Try to use autograd (https://github.com/HIPS/autograd) on Windows, since jaxlib is not available for the platform/\n",
    "\n",
    "d_loss_ag = jax.jit(jax.grad(loss))\n",
    "\n",
    "dedtheta_ag = d_loss_ag(theta_initial.flatten()) # Function d_loss_ag will be compiled here, can take minutes.\n",
    "# Again slow. Do not run for larger problems.\n",
    "dedtheta_psr = d_loss_psr(theta_initial.flatten())\n",
    "print(\"Error:\", np.linalg.norm(dedtheta_ag-dedtheta_psr))"
   ]
  },
  {
   "cell_type": "code",
   "execution_count": 12,
   "metadata": {},
   "outputs": [
    {
     "name": "stdout",
     "output_type": "stream",
     "text": [
      "CPU times: user 11.6 ms, sys: 260 µs, total: 11.9 ms\n",
      "Wall time: 9.53 ms\n",
      "Optimization terminated successfully. #parameters 24. Cost: 27. Min. energy: -1.05516\n"
     ]
    }
   ],
   "source": [
    "%time res = scipy.optimize.minimize(loss, theta_initial.flatten(), jac=d_loss_ag)\n",
    "theta = res.x\n",
    "min_energy = res.fun\n",
    "print(res.message, f\"#parameters {theta.size}. Cost: {res.nfev}. Min. energy: {min_energy:.6}\")\n"
   ]
  },
  {
   "cell_type": "code",
   "execution_count": null,
   "metadata": {},
   "outputs": [],
   "source": []
  }
 ],
 "metadata": {
  "kernelspec": {
   "display_name": "Python 3",
   "language": "python",
   "name": "python3"
  },
  "language_info": {
   "codemirror_mode": {
    "name": "ipython",
    "version": 3
   },
   "file_extension": ".py",
   "mimetype": "text/x-python",
   "name": "python",
   "nbconvert_exporter": "python",
   "pygments_lexer": "ipython3",
   "version": "3.8.6"
  }
 },
 "nbformat": 4,
 "nbformat_minor": 4
}
