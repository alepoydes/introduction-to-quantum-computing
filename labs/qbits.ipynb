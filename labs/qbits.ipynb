{
 "cells": [
  {
   "cell_type": "markdown",
   "metadata": {},
   "source": [
    "# Quantum computing basics + NumPy introduction\n",
    "\n",
    "## Qbits\n",
    "\n",
    "**Quantum bit** is a superpositions \n",
    "$\\psi=\\psi_0 |0\\rangle + \\psi_1|1\\rangle$,\n",
    "where $|0\\rangle$ and $|1\\rangle$ are basis vectors,\n",
    "and $\\psi_0,\\psi_1$ are complex numbers.\n",
    "For simulation purposes it is convenient to identify the state $\\psi$\n",
    "and two-dimensional vectors:\n",
    "$$\n",
    "\\psi=\\begin{pmatrix}\\psi_0\\\\\\psi_1\\end{pmatrix},\\quad\n",
    "|0\\rangle=\\begin{pmatrix}1\\\\0\\end{pmatrix},\\quad\n",
    "|1\\rangle=\\begin{pmatrix}0\\\\1\\end{pmatrix}.\n",
    "$$\n",
    "All states form a Hilbert space with common addition, multiplication by scalar:\n",
    "$$\n",
    "\\psi+\\alpha\\phi =\\begin{pmatrix}\\psi_0+\\alpha\\phi_0\\\\\\psi_1+\\alpha\\phi_1\\end{pmatrix}\n",
    "=(\\psi_0+\\alpha_1\\phi_0)|0\\rangle+(\\psi_1+\\alpha_1\\phi_1)|1\\rangle,\n",
    "$$\n",
    "and inner product:\n",
    "$$\n",
    "\\langle\\psi|\\phi\\rangle = \\bar\\psi_0\\phi_0+\\bar\\psi_1\\phi_1,\n",
    "$$\n",
    "where $\\bar a$ is the complex conjugate of $a$.\n",
    "Norm of the vector is defined in terms of the inner product:\n",
    "$$\n",
    "\\|\\psi\\|=\\sqrt{\\langle\\psi|\\psi\\rangle}=\\sqrt{\\psi^2}=\\sqrt{|\\psi_0|^2+|\\psi_1|^2}.\n",
    "$$\n",
    "States are defined up to multiplication by a constant.\n",
    "To define state uniquely, only normalized states are commonly considered:\n",
    "$\\|\\psi\\|=1$.\n"
   ]
  },
  {
   "cell_type": "code",
   "execution_count": 1,
   "metadata": {},
   "outputs": [
    {
     "name": "stdout",
     "output_type": "stream",
     "text": [
      "a = [0.2, 0.3]\n",
      "a + a = [0.2, 0.3, 0.2, 0.3] (incorrect)\n",
      "a + a = [0.4, 0.6]\n",
      "b = [0.2 0.3]\n",
      "b = [0.2 0.3]\n",
      "b_0 = 0.2\n",
      "2*b = [0.4 0.6]\n",
      "-b = [-0.2 -0.3]\n",
      "3*b-b = [0.4 0.6]\n",
      "b@b = 0.13\n"
     ]
    }
   ],
   "source": [
    "# The most used mathematical library for python is NumPy, which is a basis for advanced libraries. \n",
    "# We will implement core of quantum computing using NumPy to understand nature of QC.\n",
    "# Mature libraries will be discussed in the future labs.\n",
    "\n",
    "# The following directive is used to access (import) NumPy using its alias `np`.\n",
    "import numpy as np\n",
    "# If you get an error here, you probably have to install the library, one of common ways to do this is to execute\n",
    "#    pip install numpy\n",
    "# in the command line. See manual for you python distribution.\n",
    "\n",
    "# Vectors can be represented by python lists, e.g.\n",
    "a = [0.2, 0.3] # Assign a value to the variable `a`.\n",
    "print(\"a =\", a) # Show content of the variable `a`.\n",
    "\n",
    "# Operations on list is not what you expect in linear algebra:\n",
    "print(\"a + a =\", a+a, \"(incorrect)\")\n",
    "# You can obtain correct answer using list comprehension, but this is too cumbersome:\n",
    "print(\"a + a =\", [x+x for x in a])\n",
    "\n",
    "# Fortunately, NumPy has special data type for vectors=arrays.\n",
    "# The arrays can be constructed from lists:\n",
    "b = np.array([0.2, 0.3])\n",
    "print(\"b =\", b)\n",
    "\n",
    "# or setting elements one by one\n",
    "b = np.empty((2,)) # Storage for an array with one axis (vector with one coordinate) of length 2 (2-d space).\n",
    "b[0] = 0.2 # Setting first element to 0.2 (first element correspon to zero index).\n",
    "b[1] = 0.3 \n",
    "print(\"b =\", b)\n",
    "\n",
    "# Elements (coordinates) of a vector can be extracted specifying its index:\n",
    "print(\"b_0 =\", b[0])\n",
    "\n",
    "# Linear algebra operations are defined on arrays as expected:\n",
    "print(\"2*b =\", 2*b) # Multiplication by scalar\n",
    "print(\"-b =\", -b)\n",
    "print(\"3*b-b =\", 3*b-b) # Linear combination\n",
    "print(\"b@b =\",b@b) # Inner product\n",
    "# !!! The operators have different meaning for higher dimensional arrays."
   ]
  },
  {
   "cell_type": "code",
   "execution_count": 2,
   "metadata": {},
   "outputs": [
    {
     "name": "stdout",
     "output_type": "stream",
     "text": [
      "|b| = 0.36055512754639896\n"
     ]
    },
    {
     "data": {
      "text/plain": [
       "\u001b[0;31mSignature:\u001b[0m \u001b[0mnorm\u001b[0m\u001b[0;34m(\u001b[0m\u001b[0mpsi\u001b[0m\u001b[0;34m)\u001b[0m\u001b[0;34m\u001b[0m\u001b[0;34m\u001b[0m\u001b[0m\n",
       "\u001b[0;31mDocstring:\u001b[0m The function description is put in quotes. It can be inspected using ? instruction.\n",
       "\u001b[0;31mFile:\u001b[0m      /data/Activity/introduction-to-quantum-computing/labs/<ipython-input-2-c540232bc1d6>\n",
       "\u001b[0;31mType:\u001b[0m      function\n"
      ]
     },
     "metadata": {},
     "output_type": "display_data"
    }
   ],
   "source": [
    "# Functions in python are defined using `def` instruction.\n",
    "# For example we define a function computing norm of a state.\n",
    "def norm(psi): # Function named `norm` taking single argument `psi`.\n",
    "    \"\"\"The function description is put in quotes. It can be inspected using ? instruction.\"\"\"\n",
    "    return np.sqrt(psi@psi) # `return` terminate function and return the provided value to the caller.\n",
    "# np.sqrt is square root operation defined in NumPy library.\n",
    "\n",
    "print(\"|b| =\", norm(b))\n",
    "\n",
    "# Check description of our function.\n",
    "?norm"
   ]
  },
  {
   "cell_type": "code",
   "execution_count": 3,
   "metadata": {},
   "outputs": [],
   "source": [
    "# Standart function also has descriptions\n",
    "# ?np.sqrt\n",
    "# Uncomment the previous line and execute the cell to see the description of numpy.sqrt function.\n",
    "# The documentation is also available on the Internet: \n",
    "# https://numpy.org/doc/stable/reference/generated/numpy.sqrt.html"
   ]
  },
  {
   "cell_type": "markdown",
   "metadata": {},
   "source": [
    "## Measurement\n",
    "\n",
    "Qbit $\\phi$ is not equal to False (0) or True (1), unless $\\phi_0$ or $\\phi_1$ vanishes.\n",
    "\n",
    "**Question.** What is the value of $\\phi_0$, if $\\phi_1=0$?\n",
    "\n",
    "Measuring qbit (in the basis $|0\\rangle$, $|1\\rangle$, to be precise) \n",
    "we however obtain either $0$ or $1$.\n",
    "Probability to obtain $0$ in the state $\\phi_0$ equals $|\\phi_0|^2$.\n",
    "\n",
    "**Question.** What is the probability to obtain $1$ in the state $\\phi$? Why the normalization above is important?\n"
   ]
  },
  {
   "cell_type": "code",
   "execution_count": 4,
   "metadata": {},
   "outputs": [],
   "source": [
    "# We can simulate measurements using random number generator.\n",
    "def measure_qbit(psi, nsamples=10): # `nsamples` is a named argument having default value 10.\n",
    "    p = np.abs(psi[0])**2 # Probability to obtain 0 in the state `psi`. Operator ** stands for power (np.power is an alternative).\n",
    "    b = np.random.rand(nsamples)<p # True, if the measurement resulted in 0.\n",
    "    return (~b).astype(np.float) # ~ is logical negation operator. False value is converted to 0, True to 1.    "
   ]
  },
  {
   "cell_type": "markdown",
   "metadata": {},
   "source": [
    "**Question.** What is obserbed in the state $|1\\rangle$? Check using `measure_qbit`.\n",
    "\n",
    "**Problem.** Find the state, such that probability to measure $0$ and $1$ are equal. Make a test doing a numerical experiment. "
   ]
  },
  {
   "cell_type": "markdown",
   "metadata": {},
   "source": [
    "## Operators\n",
    "\n",
    "An operator is a mapping from the state space to itself.\n",
    "Operators on qbits can be represented as 2x2 matrices:\n",
    "$$\n",
    "A=\\begin{pmatrix}A_{00} & A_{01}\\\\A_{10} & A_{11}\\end{pmatrix}\n",
    "$$\n",
    "The first column is the image of $|0\\rangle$ under the action of $A$,\n",
    "the second column, of $|1\\rangle$.\n",
    "$$\n",
    "A\\psi = \\psi_0A|0\\rangle+\\psi_1A|1\\rangle,\\quad\n",
    "A|0\\rangle = A_{00}|0\\rangle+A_{10}|0\\rangle,\\quad\n",
    "A|1\\rangle = A_{01}|0\\rangle+A_{11}|0\\rangle.\n",
    "$$\n",
    "The operator $A$ acts on the vector $\\psi$ as matrix multiplication:\n",
    "$$\n",
    "A\\psi=\\begin{pmatrix}A_{00} & A_{01}\\\\A_{10} & A_{11}\\end{pmatrix}\n",
    "\\begin{pmatrix}\\psi_0\\\\\\psi_0\\end{pmatrix}\n",
    "= \\begin{pmatrix}A_{00}\\psi_0+A_{01}\\psi_1\\\\A_{10}\\psi_0+A_{11}\\psi_1\\end{pmatrix}\n",
    "$$\n",
    "\n",
    "An operator $A$ is called **self-adjoint**, iff \n",
    "$$\\langle A\\phi|\\psi\\rangle=\\langle \\phi|A\\psi\\rangle.$$\n",
    "The operator $A$ is self-adoint, iff its matrix is Hermitian, that is $A^*=A$,\n",
    "where $A^*$ is the adjoint matrix:\n",
    "$$\n",
    "A^*=\\begin{pmatrix}A_{00} & A_{01}\\\\A_{10} & A_{11}\\end{pmatrix}^*\n",
    "=\\begin{pmatrix}\\bar A_{00} & \\bar A_{10}\\\\\\bar A_{01} & \\bar A_{11}\\end{pmatrix}.\n",
    "$$\n",
    "\n",
    "An operator $A$ is called **unitary**, iff \n",
    "$$\\langle A\\phi|A\\psi\\rangle=\\langle \\phi|\\psi\\rangle.$$\n",
    "The operator $A$ is unitary, iff its matrix is unitary, that is $A^*A=1$,\n",
    "here we used notation $1$ for the identity matrix:\n",
    "$$1 \\sim \\begin{pmatrix}1 & 0\\\\0 & 1\\end{pmatrix}.$$\n",
    "\n",
    "**Question.** In your opinion is it a correct notation?\n",
    "\n",
    "An operator $A$ is called a **projector**, iff $A^2=A$.\n",
    "\n",
    "**Question.** Find an example of operator from $8$ classes, according to the table:\n",
    "\n",
    "| Class | Self-adjoin | Unitary | Projector |\n",
    "| --- | --- | --- | --- |\n",
    "| 1 | yes | yes | yes |\n",
    "| 2 | yes | yes | no |\n",
    "| 3 | yes | no | yes |\n",
    "| 4 | yes | no | no |\n",
    "| 5 | no | yes | yes |\n",
    "| 6 | no | yes | no |\n",
    "| 7 | no | no | yes |\n",
    "| 8 | no | no | no |"
   ]
  },
  {
   "cell_type": "code",
   "execution_count": 5,
   "metadata": {},
   "outputs": [
    {
     "name": "stdout",
     "output_type": "stream",
     "text": [
      "A = [[ 0.+0.j  1.+0.j]\n",
      " [-0.-1.j  0.+0.j]]\n",
      "A = [[ 0.+0.j  1.+0.j]\n",
      " [-0.-1.j  0.+0.j]]\n",
      "3*A - A = [[0.+0.j 2.+0.j]\n",
      " [0.-2.j 0.+0.j]]\n",
      "A transposed = [[ 0.+0.j -0.-1.j]\n",
      " [ 1.+0.j  0.+0.j]]\n",
      "conjugate to A = [[ 0.-0.j  1.-0.j]\n",
      " [-0.+1.j  0.-0.j]]\n",
      "A@A = [[0.-1.j 0.+0.j]\n",
      " [0.+0.j 0.-1.j]]\n",
      "A*A = [[ 0.+0.j  1.+0.j]\n",
      " [-1.+0.j  0.+0.j]]\n"
     ]
    }
   ],
   "source": [
    "# Matrix in NumPy can be stored as two-dimensional array.\n",
    "# It can be constructed from list of list: [ [row1], [row2] ]\n",
    "A = np.array([[0,1],[-1j,0]]) # We use capitals for operators to match common mathematical notation, however for Python this is a bad style.\n",
    "print(\"A =\", A)\n",
    "\n",
    "# The matrix can be constructed element by element, if necessary:\n",
    "A = np.zeros((2,2), dtype=np.complex) # Here we create 2x2 matrix of complex numbers initialized by zeros.\n",
    "A[0,1] = 1\n",
    "A[1,0] = -1j\n",
    "print(\"A =\", A)\n",
    "\n",
    "# Addition, subtraction and multiplication by scalar are written in a natural way:\n",
    "print(\"3*A - A =\", 3*A-A)\n",
    "\n",
    "# Transpose and complex conjugated can be computed as follows:\n",
    "print(\"A transposed =\", A.T)\n",
    "print(\"conjugate to A =\", np.conj(A))\n",
    "\n",
    "# WARNING !!! Matrix multiplication is not * operator (which defines elementwise product), but @ operator,\n",
    "print(\"A@A =\", A@A)\n",
    "print(\"A*A =\", A*A)"
   ]
  },
  {
   "cell_type": "code",
   "execution_count": 6,
   "metadata": {},
   "outputs": [
    {
     "name": "stdout",
     "output_type": "stream",
     "text": [
      "A b = [0.3+0.j  0. -0.2j]\n"
     ]
    }
   ],
   "source": [
    "# The operator @ can also be used to apply an operator to a state, \n",
    "print(\"A b =\", A@b)"
   ]
  },
  {
   "cell_type": "markdown",
   "metadata": {},
   "source": [
    "**Problem.** Define logical not operator on qbits. Find its matrix."
   ]
  },
  {
   "cell_type": "markdown",
   "metadata": {},
   "source": [
    "## Spectral decomposition. Functions of operators.\n",
    "\n",
    "A matrix (operator) $A$ is called by definition normal, if and only if $AA^*=A^*A$. \n",
    "\n",
    "**Problem.** Prove that self-adjoint and unitary matrices are normal.\n",
    "\n",
    "Every normal matrix $A$ can be decomposed as follows:\n",
    "\n",
    "$$A=U\\Lambda U^*,$$\n",
    "\n",
    "where the matrix $U$ is unitary, and $\\Lambda$ is a diagonal matrix.\n",
    "A detailed consideration shows that $\\Lambda=\\mathrm{diag}_n\\lambda_n$ consists of eigenvalues $\\lambda_n$,\n",
    "and $U$ of eigenvectors $e_k$ of $A$, which satisfy by definition condition:\n",
    "\n",
    "$$Ae_k=\\lambda_k e_k.$$\n",
    "\n",
    "**Problem.** Show that if spectral decomposition is valid for $A$, than $A$ is normal.\n",
    "\n",
    "Given a function $f(z)$ of complex argument $z$,\n",
    "one can define function $f(A)$ of every normal matrix, applying $f$ to its eigenvalues:\n",
    "\n",
    "$$f(A)=Uf(\\Lambda) U^*,\\quad f(\\Lambda)=\\mathrm{diag}_n f(\\lambda_n).$$\n",
    "\n",
    "**Problem.** Prove that for self-adjoint operator all eigenvalues $\\lambda_n$ are real,\n",
    "and all eigenvectors $e_n$ are orthogonal.\n",
    "\n",
    "**Question.** How to find inverse matrix ($A^{-1}$ such that $A^{-1}A=AA^{-1}=1$), \n",
    "using spectral decomposition.\n",
    "\n",
    "For an analytic function $f$ (that is $f$ can be decomposed to a series\n",
    "$$f(z)=\\sum_{n=0}^\\infty f_0 z^n,$$\n",
    "in a ball $|z|<R$) another definition of function $f$ of an operator $A$ is possible:\n",
    "\n",
    "$$f(A)=\\sum_{n=0}^\\infty f_0 A^n,$$\n",
    "\n",
    "if all eigenvalues $\\lambda_n$ of $A$ satisfy $|\\lambda_n|<R$.\n",
    "\n",
    "**Problem.** Prove that if both definitions of $f(A)$ are correct for given $f$ and $A$,\n",
    "then the definitions coincide."
   ]
  },
  {
   "cell_type": "markdown",
   "metadata": {},
   "source": [
    "## Measurement (continued)\n",
    "\n",
    "Given a state $\\psi$ from a state space $\\mathcal H$ (for the single qbit $\\mathcal H=\\mathbb C^2$) \n",
    "probablity to find the state in a subspace $\\mathcal G$ of $\\mathcal H$ is equals to the norm\n",
    "of the orthogonal projection of $\\psi$ to $\\mathcal G$:\n",
    "\n",
    "$$P(\\psi\\in\\mathcal G)=\\|\\mathrm{Proj}_{\\mathcal G}\\psi \\|.$$\n",
    "\n",
    "The projection operator $P=\\mathrm{Proj}_{\\mathcal G}$ is defined by the conditions:\n",
    "\n",
    "1. $P$ is an operator, $P\\colon\\mathcal H\\to\\mathcal H$.\n",
    "2. $P$ is a projection, $P^2=P$.\n",
    "3. $P$ is an orthogonal projection $P^*=P$.\n",
    "4. $P$ is a projection onto $\\mathcal G$, $\\mathrm{Ran} P=\\mathcal G$.\n",
    "\n",
    "Recall that range of an operator $A\\mathcal H\\to\\mathcal H$ is the set of all images of all points from its domain:\n",
    "$$\\mathrm{Ran} A=\\{y=f(x)\\forall x\\in\\mathcal H\\}.$$\n",
    "\n",
    "We can consider an orthogonal projection $P$ as a measurement operator.\n",
    "During measurement $P$ is applied to a state $\\psi$,\n",
    "and the result of the measurement is the new state $P\\psi$ (renormalized)\n",
    "obtained with the probability $\\|P\\psi\\|$.\n",
    "\n",
    "A self-adjoint operator $A$ is identified with an observable value in the following way.\n",
    "Suppose $A$ has eigenvalues $\\lambda_n$ and the corresponding normalized eigenvectors $e_n$.\n",
    "If we observe $A$ in a state $\\psi$, one of the value $\\lambda_n$ will be observed,\n",
    "where probabilty to obtain $\\lambda_n$ is $|\\langle e_n|\\psi\\rangle|^2$.\n",
    "During the obervation the state collapses to the subspace spanned by the eigevector $e_n$\n",
    "corresponding to the observed value $\\lambda_n$.\n",
    "\n",
    "**Problem.** Demonstrate that we certainly obtain a value doing an observation.\n",
    "\n",
    "**Problem.** Find the observable that indicate that qbit was in the state $|0\\rangle$.\n",
    "\n",
    "**Problem.** Given the result of measurement a qbit in the state $|0\\rangle$,\n",
    "what is the probability to obtaine $|1\\rangle$ in the subsequent measurements?\n",
    "\n",
    "It is convenient to write projections on one-dimensional spaces in bra-ket notations.\n",
    "Suppose $\\psi$ is a state, than $|\\psi\\rangle$ is another way to write $\\psi$ itself,\n",
    "$\\langle\\psi|$ is the linear function associated with $\\psi$ by the identity:\n",
    "$$\\langle\\psi|\\phi = \\langle\\psi|\\phi\\rangle\\in\\mathbb C,$$\n",
    "where we have inner product on the r.h.s.\n",
    "If $|\\psi\\rangle$ is represented by a column vector $\\psi$, than $\\langle\\psi|$ is its ajoint row vector.\n",
    "Therefore\n",
    "$$\\langle\\psi|\\phi\\rangle= \\psi^*\\phi,\\quad |\\psi\\rangle\\langle\\phi|= \\psi\\phi^*,$$\n",
    "where $|\\psi\\rangle\\langle\\phi|$ is a matrix having range one.\n",
    "The expression $|\\psi\\rangle\\langle\\psi|$ is the orthogonal projection to the space\n",
    "spanned by $\\psi$.\n",
    "\n",
    "**Problem.** Write matrix form for $|\\psi\\rangle\\langle\\phi|$ explicitly."
   ]
  },
  {
   "cell_type": "code",
   "execution_count": 11,
   "metadata": {},
   "outputs": [
    {
     "name": "stdout",
     "output_type": "stream",
     "text": [
      "A = [[-1.28669542  1.03438507]\n",
      " [ 1.03438507 -0.53097323]]\n",
      "Eigenvalues [-2.0100752   0.19240655]\n",
      "Eigenvectors [[-0.81948857 -0.57309553]\n",
      " [ 0.57309553 -0.81948857]]\n",
      "A e0 - lambda0 e0 = [-4.44089210e-16  2.22044605e-16]\n",
      "A e1 - lambda0 e1 = [-9.71445147e-17  8.32667268e-17]\n"
     ]
    }
   ],
   "source": [
    "# Consider a random observable A.\n",
    "A=np.random.randn(2,2) # 2x2 matrix with normally distributed coefficients.\n",
    "A=(A+A.T)/2 # Symmetrized matrix.\n",
    "print(\"A =\", A)\n",
    "\n",
    "# Eigendecomposition of A can be computed using NumPy (or its older brother SciPy):\n",
    "evalues, evectors = np.linalg.eigh(A)\n",
    "# Here linalg is a subpackage of NumPy containing linear algebra related functions.\n",
    "print(\"Eigenvalues\", evalues)\n",
    "print(\"Eigenvectors\", evectors)\n",
    "\n",
    "# Check the decomposition by definition.\n",
    "print(\"A e0 - lambda0 e0 =\", A@evectors[:,0]-evalues[0]*evectors[:,0])\n",
    "print(\"A e1 - lambda0 e1 =\", A@evectors[:,1]-evalues[1]*evectors[:,1])"
   ]
  },
  {
   "cell_type": "markdown",
   "metadata": {},
   "source": [
    "**Problem.** Find numerically inverse of $A$ using the spectral decomposition. Check correctness by definition of the inverse matrix. \n",
    "\n",
    "**Problem.** Write a function that simulate observation of a value $A$ on a qbit state $\\psi$."
   ]
  },
  {
   "cell_type": "markdown",
   "metadata": {},
   "source": [
    "## Quantum gates.\n",
    "\n",
    "One of the most important observables is total energy given by an Hamiltonian operator $H$.\n",
    "Evolution of the quantum system with Hamiltonian $H$ is determinated by the propagator $U(t)=e^{itH}$.\n",
    "\n",
    "**Problem.** Prove that the propagator $U(t)$ is a unitary operator for every $t$.\n",
    "\n",
    "**Problem.** Prove the group property $U(t_1+t_2)=U(t_1)U(t_2)$.\n",
    "\n",
    "Discussing high-level of quantum computations, details of implementation of the device are neglected,\n",
    "and instead continuous dependence on time discrete time steps are considered.\n",
    "In the case the state evolves in steps, \n",
    "where each transformation is defined by a unitary operator $U$.\n",
    "A device that performes such a transoformation of the state is called a quantum gate.\n",
    "\n",
    "It is worth noting that all quantum transformations are unitary (which is drastically different from classical computing),\n",
    "but measurements are not unitary transforms.\n",
    "\n",
    "**Hard question.** How measurements can be performed in our quantum world, if measurements are not unitary?\n",
    "\n",
    "Most common quantum gates on single qbit:\n",
    "\n",
    "$$\n",
    "X=\\begin{pmatrix}0&1\\\\1&0\\end{pmatrix},\\quad\n",
    "Z=\\begin{pmatrix}1&0\\\\0&-1\\end{pmatrix},\\quad\n",
    "H=\\frac{1}{\\sqrt{2}}\\begin{pmatrix}1&1\\\\1&-1\\end{pmatrix},\\quad\n",
    "$$\n",
    "The transform $H$ is called Hadamard gate, which is one of most useful gates.\n",
    "\n",
    "**Problem.** Implement the gates and check their unitarity. \n",
    "\n",
    "**Question.** How you can describe function of each of the gates?\n",
    "\n",
    "All single-qubit gates can be decomposed to the following product:\n",
    "$$\n",
    "U=e^{i\\alpha}\\begin{pmatrix}e^{-i\\beta/2}&0\\\\0&e^{i\\beta/2}\\end{pmatrix}\n",
    "\\begin{pmatrix}\\cos\\frac{\\gamma}{2}&-\\sin\\frac{\\gamma}{2}\\\\\\sin\\frac{\\gamma}{2}&\\cos\\frac{\\gamma}{2}\\end{pmatrix}\n",
    "\\begin{pmatrix}e^{-i\\delta/2}&0\\\\0&e^{i\\delta/2}\\end{pmatrix}\n",
    "$$\n",
    "The product can be understood as application of simple gates (corresponding to a single simple matrix)\n",
    "from right to left.\n",
    "These simple matrices are turned out to be rotations in different planes.\n",
    "\n",
    "**Hard problem.** Implement an algorithm for computation of the parameters $\\alpha$, $\\beta$, $\\gamma$, $\\delta$ for given gate matrix $U$."
   ]
  },
  {
   "cell_type": "code",
   "execution_count": null,
   "metadata": {},
   "outputs": [],
   "source": []
  }
 ],
 "metadata": {
  "kernelspec": {
   "display_name": "Python 3",
   "language": "python",
   "name": "python3"
  },
  "language_info": {
   "codemirror_mode": {
    "name": "ipython",
    "version": 3
   },
   "file_extension": ".py",
   "mimetype": "text/x-python",
   "name": "python",
   "nbconvert_exporter": "python",
   "pygments_lexer": "ipython3",
   "version": "3.8.2"
  }
 },
 "nbformat": 4,
 "nbformat_minor": 4
}
